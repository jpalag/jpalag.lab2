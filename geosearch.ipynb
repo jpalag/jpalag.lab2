{
  "cells": [
    {
      "cell_type": "code",
      "execution_count": 2,
      "metadata": {
        "id": "EtnaSlH-wplB"
      },
      "outputs": [],
      "source": [
        "# created on April 25, 2022\n",
        "# modified on April 25, 2022\n",
        "# @author:          Jasmine Palaganas\n",
        "# @email:           jpalag@uw.edu\n",
        "# @website:         https://hgis.uw.edu\n",
        "# @organization:    Department of Geography, University of Washington, Seattle\n",
        "# @description:     Search geo-tagged tweets within the U.S. This script is modified from https://github.com/shawn-terryah/Twitter_Geolocation"
      ]
    },
    {
      "cell_type": "code",
      "execution_count": 3,
      "metadata": {
        "id": "f-bMdKMawxnQ",
        "colab": {
          "base_uri": "https://localhost:8080/"
        },
        "outputId": "71eea257-edc8-41be-de79-e25c3abbab02"
      },
      "outputs": [
        {
          "output_type": "stream",
          "name": "stdout",
          "text": [
            "Mounted at /gdrive\n"
          ]
        }
      ],
      "source": [
        "import tweepy, json, time\n",
        "import pandas as pd\n",
        "from google.colab import files\n",
        "# Create data on to Google Drive\n",
        "from google.colab import drive\n",
        "# Mount your Drive to the Colab VM.\n",
        "drive.mount(\"/gdrive\")"
      ]
    },
    {
      "cell_type": "code",
      "execution_count": 4,
      "metadata": {
        "id": "dEyPts-ZwplE"
      },
      "outputs": [],
      "source": [
        "class StreamListener(tweepy.StreamListener):\n",
        "    \"\"\"tweepy.StreamListener is a class provided by tweepy used to access\n",
        "    the Twitter Streaming API to collect tweets in real-time.\n",
        "    \"\"\"\n",
        "\n",
        "    def __init__(self, time_limit=60, file=\"\"):\n",
        "        \"\"\"class initialization\"\"\"\n",
        "        self.start_time = time.time()\n",
        "        self.limit = time_limit\n",
        "        self.result = []\n",
        "        self.f = file\n",
        "        super(StreamListener, self).__init__()\n",
        "\n",
        "    def on_data(self, data):\n",
        "        \"\"\"This is called when data are streamed in.\"\"\"\n",
        "        if (time.time() - self.start_time) < self.limit:\n",
        "            datajson = json.loads(data)\n",
        "            # print(datajson, \"\\n\")\n",
        "            if 'id' not in datajson.keys():\n",
        "                time.sleep(10)\n",
        "            else:\n",
        "                id = datajson['id']\n",
        "                username = datajson['user']['screen_name']\n",
        "                created_at = datajson['created_at']\n",
        "                text = datajson['text'].strip().replace(\"\\n\", \"\")\n",
        "\n",
        "                # process the geo-tags\n",
        "                if datajson['coordinates'] == None:\n",
        "                    try:\n",
        "                        bbox = datajson['place']['bounding_box']['coordinates'][0]\n",
        "                        lng = (bbox[0][0] + bbox[2][0]) / 2.0\n",
        "                        lat = (bbox[0][1] + bbox[1][1]) / 2.0\n",
        "                    except:\n",
        "                        lat = 0\n",
        "                        lng = 0\n",
        "                else:\n",
        "                    lng = datajson['coordinates']['coordinates'][0]\n",
        "                    lat = datajson['coordinates']['coordinates'][1]\n",
        "\n",
        "                if lat != 0:\n",
        "                    row = {\n",
        "                        'id': id,\n",
        "                        'username': username,\n",
        "                        'created_at': created_at,\n",
        "                        'lng': lng,\n",
        "                        'lat': lat,\n",
        "                        'text': text\n",
        "                    }\n",
        "                    print(row)\n",
        "                    self.result.append(row)\n",
        "                else:\n",
        "                    pass\n",
        "        else:\n",
        "            df = pd.DataFrame(self.result)\n",
        "            df.to_csv(self.f, index=False)\n",
        "            # download the csv to your local computer\n",
        "            files.download(self.f)\n",
        "            print(\"the csv has been downloaded to your local computer. The program has been completed successfully.\")\n",
        "            return False"
      ]
    },
    {
      "cell_type": "code",
      "execution_count": 6,
      "metadata": {
        "id": "5Xzyo_OiwplG",
        "colab": {
          "base_uri": "https://localhost:8080/",
          "height": 506
        },
        "outputId": "4469e5a2-918f-47cc-de42-fed7d43fafab"
      },
      "outputs": [
        {
          "output_type": "stream",
          "name": "stdout",
          "text": [
            "{'id': 1518885630549319681, 'username': 'peroopeace', 'created_at': 'Tue Apr 26 09:32:08 +0000 2022', 'lng': 6.784844, 'lat': 6.1371965, 'text': 'Elon musk type of money go feet me sha @elonmusk @ABC  @Shibtoken'}\n",
            "{'id': 1518885886213115906, 'username': 'AnkhMorporker', 'created_at': 'Tue Apr 26 09:33:09 +0000 2022', 'lng': -6.2476215, 'lat': 53.354902499999994, 'text': 'Elon Musk is a dick'}\n",
            "{'id': 1518885976159965184, 'username': 'ChristopherG_W', 'created_at': 'Tue Apr 26 09:33:30 +0000 2022', 'lng': -0.102162, 'lat': 51.5879015, 'text': 'SCREW ELON MUSK. #RIPTwitter'}\n",
            "{'id': 1518886014638444544, 'username': 'enigmatic_avi', 'created_at': 'Tue Apr 26 09:33:40 +0000 2022', 'lng': 72.874244, 'lat': 19.17414, 'text': \"Nothing is so exhilarating than controlling the narrative.But it's refreshing to see Elon Musk behave like he sho… https://t.co/0I9u6OktGY\"}\n",
            "{'id': 1518886051749761025, 'username': 'Paul_Ensell', 'created_at': 'Tue Apr 26 09:33:48 +0000 2022', 'lng': -5.111084, 'lat': 50.1692525, 'text': 'And then liquidise it'}\n",
            "{'id': 1518886106594709504, 'username': 'iamRRswagger', 'created_at': 'Tue Apr 26 09:34:02 +0000 2022', 'lng': 121.10488699999999, 'lat': 14.646971, 'text': \"Elon Musk is a businessman. He definitely worked hard to be so rich. It's his hard earned money, let him spend it t… https://t.co/cJjHXmRzBr\"}\n",
            "{'id': 1518886111778459650, 'username': 'kori_pastor', 'created_at': 'Tue Apr 26 09:34:03 +0000 2022', 'lng': -122.455344, 'lat': 47.242960499999995, 'text': \"@kiss_tobi1 @iamvinicius_snr So this is okay to post, oh Elon Musk thanks for taking over. Y'all better get your ki… https://t.co/Ryja0wUFwn\"}\n",
            "{'id': 1518886142149595138, 'username': 'RoadRangerI90', 'created_at': 'Tue Apr 26 09:34:10 +0000 2022', 'lng': -85.7682405, 'lat': 37.822244, 'text': 'Guys, today I’m coming out of the closet. I have been hiding this for a while but now I am ready. Here it is: I’m c… https://t.co/iBcJXrEHea'}\n",
            "{'id': 1518886360471556097, 'username': 'mshys17', 'created_at': 'Tue Apr 26 09:35:02 +0000 2022', 'lng': 55.5511725, 'lat': 24.9934625, 'text': 'I don’t know why! But the Elon musk era would be craziest 🚶🏻\\u200d♀️'}\n",
            "{'id': 1518886478180454400, 'username': 'LongshanksE10', 'created_at': 'Tue Apr 26 09:35:30 +0000 2022', 'lng': 0.159749, 'lat': 51.866310999999996, 'text': 'Don’t get me wrong. I think he will struggle with it and ultimately regret the experience but of all the concerns w… https://t.co/6VGu1QoGz1'}\n",
            "{'id': 1518886514662559745, 'username': 'fiacrek14', 'created_at': 'Tue Apr 26 09:35:39 +0000 2022', 'lng': 0.832303, 'lat': 8.557858, 'text': 'Les plus importantes acquisitions dans la Big tech Elon Musk --&gt; Twitter Facebook --&gt; Instagram, WhatsAppMicroso… https://t.co/yYFQkXSn40'}\n",
            "{'id': 1518886555515068417, 'username': 'montypro', 'created_at': 'Tue Apr 26 09:35:49 +0000 2022', 'lng': 4.644223, 'lat': 52.509437000000005, 'text': 'I respect him ... A very smart guy ...'}\n",
            "{'id': 1518886691498754049, 'username': 'thunkhazel', 'created_at': 'Tue Apr 26 09:36:21 +0000 2022', 'lng': 109.732213, 'lat': -6.911058000000001, 'text': 'Elon Musk, what r u doing with Amber in elevator? Making a perfume?'}\n",
            "{'id': 1518886714105909248, 'username': 'ReadoUk', 'created_at': 'Tue Apr 26 09:36:26 +0000 2022', 'lng': -0.2527539999999999, 'lat': 51.3854455, 'text': 'Elon Musk cancelled Netflix last year and he just bought Twitter, sent a rocket into space and named his 4th child… https://t.co/UFS4mgD1NQ'}\n",
            "{'id': 1518886733328404482, 'username': 'AnnikalangaY', 'created_at': 'Tue Apr 26 09:36:31 +0000 2022', 'lng': 27.9574575, 'lat': -26.0197195, 'text': 'Didn’t Musk also say that he would end South Africa’s electricity problems?'}\n",
            "{'id': 1518886847354650624, 'username': 'monjoase2', 'created_at': 'Tue Apr 26 09:36:58 +0000 2022', 'lng': 27.170293, 'lat': -25.592959999999998, 'text': \"@G_M_Dlamini I really don't understand the reason why Ultra Verkramte Afrikaaner Rascists Bigots eMzansi like Steve… https://t.co/kq6aTozKIp\"}\n",
            "{'id': 1518887009816924160, 'username': 'bisco_0', 'created_at': 'Tue Apr 26 09:37:37 +0000 2022', 'lng': 6.690293, 'lat': 6.205395, 'text': 'Forget Ponzi, Donald Trump or ASUU, let Elon Musk motivate you. Back in 2017!!! https://t.co/DZpTu6ESvP'}\n",
            "{'id': 1518887125600509953, 'username': 'sai1951', 'created_at': 'Tue Apr 26 09:38:04 +0000 2022', 'lng': 77.5584485, 'lat': 12.9231145, 'text': 'Not just for Twitter but for all our sake.'}\n",
            "{'id': 1518887141169901570, 'username': 'dbeentjes', 'created_at': 'Tue Apr 26 09:38:08 +0000 2022', 'lng': 4.9040535, 'lat': 52.354728, 'text': 'I leave this here…'}\n",
            "{'id': 1518887152691474432, 'username': 'msraija', 'created_at': 'Tue Apr 26 09:38:11 +0000 2022', 'lng': -115.0611275, 'lat': 36.184754, 'text': 'Is it the money or the perceived stature in politics? 🤔. If you wanna earn money don’t lead with your heart. Rofl..… https://t.co/HwAZVNqJ40'}\n",
            "{'id': 1518887472163344384, 'username': 'RuariJM', 'created_at': 'Tue Apr 26 09:39:27 +0000 2022', 'lng': -3.927119, 'lat': 50.997507, 'text': '@CountBinface He said he hopes people who don\\'t like him stay on Twitter, so yes.\"People you don\\'t like saying th… https://t.co/J95Ox1Jcim'}\n",
            "{'id': 1518887473178419200, 'username': 'Nemo4Incognito', 'created_at': 'Tue Apr 26 09:39:27 +0000 2022', 'lng': -2.4692695000000002, 'lat': 50.6274375, 'text': 'I don’t know for sure but I think this fellow is for real…'}\n",
            "{'id': 1518887538181783563, 'username': 'Maverique_R', 'created_at': 'Tue Apr 26 09:39:43 +0000 2022', 'lng': 7.253045999999999, 'lat': 8.9424835, 'text': \"@Officialsoliu @jbenie3 @deingx Pass me wetin you dey smoke ser.That thing wey make you 'wisdomize' say Elon Musk,… https://t.co/qSE75QQtHm\"}\n",
            "{'id': 1518887559358734336, 'username': 'iam_ROMVN', 'created_at': 'Tue Apr 26 09:39:48 +0000 2022', 'lng': -2.23348, 'lat': 53.4569525, 'text': 'Cap. So they actually devised the plan and published it publicly'}\n",
            "{'id': 1518887625662345218, 'username': 'Firemanfm', 'created_at': 'Tue Apr 26 09:40:04 +0000 2022', 'lng': 5.8942705, 'lat': 5.756458500000001, 'text': 'ELON MUSK VITALIZE SUMCOIN  SINCE YOU OWNS TWITTERhttps://t.co/wuF3orNBWD@elonmusk'}\n",
            "{'id': 1518887695375814658, 'username': 'abubakarfit', 'created_at': 'Tue Apr 26 09:40:20 +0000 2022', 'lng': 74.3584865, 'lat': 31.5318195, 'text': 'Elon Musk has finally set the blue bird free☺️#ElonMuskBuyTwitter #ElonMuskBuysTwitter #ElonMusk https://t.co/enJNJH0U7l'}\n"
          ]
        },
        {
          "output_type": "display_data",
          "data": {
            "text/plain": [
              "<IPython.core.display.Javascript object>"
            ],
            "application/javascript": [
              "\n",
              "    async function download(id, filename, size) {\n",
              "      if (!google.colab.kernel.accessAllowed) {\n",
              "        return;\n",
              "      }\n",
              "      const div = document.createElement('div');\n",
              "      const label = document.createElement('label');\n",
              "      label.textContent = `Downloading \"${filename}\": `;\n",
              "      div.appendChild(label);\n",
              "      const progress = document.createElement('progress');\n",
              "      progress.max = size;\n",
              "      div.appendChild(progress);\n",
              "      document.body.appendChild(div);\n",
              "\n",
              "      const buffers = [];\n",
              "      let downloaded = 0;\n",
              "\n",
              "      const channel = await google.colab.kernel.comms.open(id);\n",
              "      // Send a message to notify the kernel that we're ready.\n",
              "      channel.send({})\n",
              "\n",
              "      for await (const message of channel.messages) {\n",
              "        // Send a message to notify the kernel that we're ready.\n",
              "        channel.send({})\n",
              "        if (message.buffers) {\n",
              "          for (const buffer of message.buffers) {\n",
              "            buffers.push(buffer);\n",
              "            downloaded += buffer.byteLength;\n",
              "            progress.value = downloaded;\n",
              "          }\n",
              "        }\n",
              "      }\n",
              "      const blob = new Blob(buffers, {type: 'application/binary'});\n",
              "      const a = document.createElement('a');\n",
              "      a.href = window.URL.createObjectURL(blob);\n",
              "      a.download = filename;\n",
              "      div.appendChild(a);\n",
              "      a.click();\n",
              "      div.remove();\n",
              "    }\n",
              "  "
            ]
          },
          "metadata": {}
        },
        {
          "output_type": "display_data",
          "data": {
            "text/plain": [
              "<IPython.core.display.Javascript object>"
            ],
            "application/javascript": [
              "download(\"download_b3153320-84b5-417a-a502-e93965785f46\", \"geotweets.csv\", 4791)"
            ]
          },
          "metadata": {}
        },
        {
          "output_type": "stream",
          "name": "stdout",
          "text": [
            "the csv has been downloaded to your local computer. The program has been completed successfully.\n"
          ]
        }
      ],
      "source": [
        "if __name__ == \"__main__\":\n",
        "    # These are provided to you through the Twitter API after you create a account\n",
        "    # register a Twitter App to get the keys and access tokens.\n",
        "    output_file = '/gdrive/My Drive/geotweets.csv'\n",
        "\n",
        "    # Apply for your own Twitter API keys at https://developer.twitter.com/en/apply-for-access\n",
        "    consumer_key = \"HoFDAbhMZAmUsJvlZAh9piN3v\"\n",
        "    consumer_secret = \"HoTfp2chtiya4Fd1tuUDJ3o6plv2wppVDpONnpGh3DTmS3jFhb\"\n",
        "    access_token = \"1516906141539651584-QtAdO3oMk5O5Bcyvf5GBS9U5YWQo9v\"\n",
        "    access_token_secret = \"dBchehLBn4yhcip3x6vXXBY4PYC63M2ZY8OSgT4QgxO0G\"\n",
        "\n",
        "    myauth = tweepy.OAuthHandler(consumer_key, consumer_secret)\n",
        "    myauth.set_access_token(access_token, access_token_secret)\n",
        "\n",
        "    # LOCATIONS are the longitude, latitude coordinate corners for a box that restricts the\n",
        "    # geographic area from which you will stream tweets. The first two define the southwest\n",
        "    # corner of the box and the second two define the northeast corner of the box.\n",
        "    LOCATIONS = [-122.383271, 47.502659, -122.286527, 47.732594]  # Seattle, Washington\n",
        "    #             -164.639405, 58.806859, -144.152365, 71.76871,  # Alaska\n",
        "    #             -160.161542, 18.776344, -154.641396, 22.878623]  # Hawaii  \n",
        "\n",
        "\n",
        "    stream_listener = StreamListener(time_limit=500, file=output_file)\n",
        "    stream = tweepy.Stream(auth=myauth, listener=stream_listener)\n",
        "    stream.filter(track=[\"Elon Musk\"], languages=['en'], encoding=\"utf-8\")"
      ]
    }
  ],
  "metadata": {
    "colab": {
      "collapsed_sections": [],
      "name": "geosearch.ipynb",
      "provenance": []
    },
    "kernelspec": {
      "display_name": "Python 3",
      "language": "python",
      "name": "python3"
    },
    "language_info": {
      "codemirror_mode": {
        "name": "ipython",
        "version": 3
      },
      "file_extension": ".py",
      "mimetype": "text/x-python",
      "name": "python",
      "nbconvert_exporter": "python",
      "pygments_lexer": "ipython3",
      "version": "3.7.4"
    }
  },
  "nbformat": 4,
  "nbformat_minor": 0
}